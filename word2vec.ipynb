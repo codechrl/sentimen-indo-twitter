{
 "cells": [
  {
   "cell_type": "code",
   "execution_count": 1,
   "metadata": {},
   "outputs": [],
   "source": [
    "import gensim\n",
    "import numpy as np\n",
    "import pandas as pd\n",
    "import multiprocessing\n",
    "from gensim.models import KeyedVectors\n",
    "from tqdm import tqdm\n",
    "tqdm.pandas(desc=\"progress-bar\")\n",
    "from sklearn import utils\n",
    "from sklearn.utils import shuffle\n",
    "from gensim.models.word2vec import Word2Vec\n",
    "from gensim.models.doc2vec import TaggedDocument"
   ]
  },
  {
   "cell_type": "code",
   "execution_count": 2,
   "metadata": {},
   "outputs": [],
   "source": [
    "df1 = pd.read_csv('lib/dataset',index_col=0)\n",
    "df2 = pd.read_csv('lib/dataset ahok',index_col=0)\n",
    "df3 = pd.read_csv('lib/datasetfm',index_col=0)"
   ]
  },
  {
   "cell_type": "code",
   "execution_count": 3,
   "metadata": {},
   "outputs": [
    {
     "name": "stdout",
     "output_type": "stream",
     "text": [
      "<class 'pandas.core.frame.DataFrame'>\n",
      "RangeIndex: 18182 entries, 0 to 18181\n",
      "Data columns (total 2 columns):\n",
      "target    18182 non-null int64\n",
      "text      18182 non-null object\n",
      "dtypes: int64(1), object(1)\n",
      "memory usage: 284.2+ KB\n"
     ]
    }
   ],
   "source": [
    "dfAll=pd.concat([df1,df2,df3],sort=True)\n",
    "dfAll = dfAll.replace(to_replace='None', value=np.nan).dropna()\n",
    "dfAll = shuffle(dfAll)\n",
    "dfAll.dropna(inplace=True)\n",
    "dfAll.reset_index(drop=True,inplace=True)\n",
    "dfAll.info()"
   ]
  },
  {
   "cell_type": "code",
   "execution_count": 4,
   "metadata": {},
   "outputs": [],
   "source": [
    "def labelize_tweets_ug(tweets,label):\n",
    "    result = []\n",
    "    prefix = label\n",
    "    for i, t in zip(tweets.index, tweets):\n",
    "        result.append(TaggedDocument(t.split(), [prefix + '_%s' % i]))\n",
    "    return result"
   ]
  },
  {
   "cell_type": "code",
   "execution_count": 5,
   "metadata": {},
   "outputs": [],
   "source": [
    "all_x = dfAll.text\n",
    "all_x_w2v = labelize_tweets_ug(all_x, 'all')"
   ]
  },
  {
   "cell_type": "code",
   "execution_count": 6,
   "metadata": {},
   "outputs": [
    {
     "name": "stderr",
     "output_type": "stream",
     "text": [
      "100%|██████████| 18182/18182 [00:00<00:00, 797257.15it/s]\n"
     ]
    }
   ],
   "source": [
    "cores = multiprocessing.cpu_count()\n",
    "model_ug_cbow = Word2Vec(sg=0, size=100, negative=5, window=2, min_count=2, workers=cores, alpha=0.065, min_alpha=0.065)\n",
    "model_ug_cbow.build_vocab([x.words for x in tqdm(all_x_w2v)])"
   ]
  },
  {
   "cell_type": "code",
   "execution_count": 7,
   "metadata": {},
   "outputs": [],
   "source": [
    "modelCbow = gensim.models.Word2Vec.load('lib/cbow_indo.word2vec')\n",
    "modelSg = gensim.models.Word2Vec.load('lib/sg_indo.word2vec')"
   ]
  },
  {
   "cell_type": "markdown",
   "metadata": {},
   "source": [
    "cbow"
   ]
  },
  {
   "cell_type": "code",
   "execution_count": 8,
   "metadata": {},
   "outputs": [
    {
     "name": "stderr",
     "output_type": "stream",
     "text": [
      "100%|██████████| 18182/18182 [00:00<00:00, 488898.52it/s]\n"
     ]
    }
   ],
   "source": [
    "modelCbow.build_vocab([x.words for x in tqdm(all_x_w2v)],update=True)"
   ]
  },
  {
   "cell_type": "code",
   "execution_count": 9,
   "metadata": {
    "scrolled": true
   },
   "outputs": [
    {
     "name": "stderr",
     "output_type": "stream",
     "text": [
      "100%|██████████| 7200/7200 [42:54<00:00,  2.42it/s]\n"
     ]
    }
   ],
   "source": [
    "for epoch in tqdm(range(7200)):\n",
    "    modelCbow.train(utils.shuffle([x.words for x in (all_x_w2v)]), total_examples=len(all_x_w2v), epochs=1)\n",
    "    modelCbow.alpha -= 0.002\n",
    "    modelCbow.min_alpha = modelCbow.alpha"
   ]
  },
  {
   "cell_type": "code",
   "execution_count": 10,
   "metadata": {},
   "outputs": [
    {
     "data": {
      "text/plain": [
       "[('gosok', 0.9809937477111816),\n",
       " ('sejuk', 0.9759219884872437),\n",
       " ('hny', 0.9753035306930542),\n",
       " ('tulis', 0.970203161239624),\n",
       " ('confuse', 0.9695990681648254),\n",
       " ('tawar', 0.9695308804512024),\n",
       " ('rasa', 0.968677282333374),\n",
       " ('pansos', 0.966873824596405),\n",
       " ('iyaaa', 0.9654723405838013),\n",
       " ('s', 0.9654042720794678)]"
      ]
     },
     "execution_count": 10,
     "metadata": {},
     "output_type": "execute_result"
    }
   ],
   "source": [
    "modelCbow.wv.most_similar('bagus')"
   ]
  },
  {
   "cell_type": "markdown",
   "metadata": {},
   "source": [
    "sg"
   ]
  },
  {
   "cell_type": "code",
   "execution_count": 11,
   "metadata": {},
   "outputs": [
    {
     "name": "stderr",
     "output_type": "stream",
     "text": [
      "100%|██████████| 18182/18182 [00:00<00:00, 1008901.35it/s]\n"
     ]
    }
   ],
   "source": [
    "modelSg.build_vocab([x.words for x in tqdm(all_x_w2v)],update=True)"
   ]
  },
  {
   "cell_type": "code",
   "execution_count": 12,
   "metadata": {},
   "outputs": [
    {
     "name": "stderr",
     "output_type": "stream",
     "text": [
      "100%|██████████| 7200/7200 [48:09<00:00,  3.26it/s] \n"
     ]
    }
   ],
   "source": [
    "for epoch in tqdm(range(7200)):\n",
    "    modelSg.train(utils.shuffle([x.words for x in (all_x_w2v)]), total_examples=len(all_x_w2v), epochs=1)\n",
    "    modelSg.alpha -= 0.002\n",
    "    modelSg.min_alpha = modelSg.alpha"
   ]
  },
  {
   "cell_type": "code",
   "execution_count": 13,
   "metadata": {},
   "outputs": [
    {
     "data": {
      "text/plain": [
       "[('dapetnya', 0.9536737203598022),\n",
       " ('warning', 0.9430612921714783),\n",
       " ('cil', 0.9350965619087219),\n",
       " ('titip', 0.9349965453147888),\n",
       " ('solidaritas', 0.9345264434814453),\n",
       " ('ngejarah', 0.9328885078430176),\n",
       " ('irama', 0.931515634059906),\n",
       " ('pakcik', 0.9303817749023438),\n",
       " ('halang', 0.9300366044044495),\n",
       " ('kenyang', 0.9300069808959961)]"
      ]
     },
     "execution_count": 13,
     "metadata": {},
     "output_type": "execute_result"
    }
   ],
   "source": [
    "modelSg.wv.most_similar('bagus')"
   ]
  },
  {
   "cell_type": "code",
   "execution_count": null,
   "metadata": {},
   "outputs": [],
   "source": []
  }
 ],
 "metadata": {
  "kernelspec": {
   "display_name": "Python 3",
   "language": "python",
   "name": "python3"
  },
  "language_info": {
   "codemirror_mode": {
    "name": "ipython",
    "version": 3
   },
   "file_extension": ".py",
   "mimetype": "text/x-python",
   "name": "python",
   "nbconvert_exporter": "python",
   "pygments_lexer": "ipython3",
   "version": "3.6.8"
  }
 },
 "nbformat": 4,
 "nbformat_minor": 2
}

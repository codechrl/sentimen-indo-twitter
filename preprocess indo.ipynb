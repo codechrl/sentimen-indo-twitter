{
 "cells": [
  {
   "cell_type": "markdown",
   "metadata": {},
   "source": [
    "# Preprocess Indo"
   ]
  },
  {
   "cell_type": "code",
   "execution_count": null,
   "metadata": {},
   "outputs": [],
   "source": [
    "from gensim.models import Doc2Vec\n",
    "import re\n",
    "import os\n",
    "import pandas as pd\n",
    "import numpy as np\n",
    "import multiprocessing\n",
    "import ipython_genutils\n",
    "import pickle\n",
    "import progressbar\n",
    "from Sastrawi.StopWordRemover.StopWordRemoverFactory import StopWordRemoverFactory\n",
    "from nltk.tokenize import WordPunctTokenizer\n",
    "from keras.layers.embeddings import Embedding\n",
    "from sklearn.metrics import classification_report\n",
    "from sklearn import model_selection\n",
    "from sklearn import utils\n",
    "from sklearn.utils import shuffle\n",
    "from gensim.models.word2vec import Word2Vec\n",
    "from keras.preprocessing.text import Tokenizer\n",
    "from Sastrawi.Stemmer.StemmerFactory import StemmerFactory\n",
    "import nltk"
   ]
  },
  {
   "cell_type": "markdown",
   "metadata": {},
   "source": [
    "### load file"
   ]
  },
  {
   "cell_type": "code",
   "execution_count": null,
   "metadata": {},
   "outputs": [],
   "source": [
    "df = pd.read_csv('lib/dataset ahok',header=None)\n",
    "df=df.rename(columns={0:'target',1:'text'})\n",
    "df.dropna(inplace=True)\n",
    "df.reset_index(drop=True,inplace=True)\n",
    "df.info()\n",
    "df.head()"
   ]
  },
  {
   "cell_type": "code",
   "execution_count": null,
   "metadata": {},
   "outputs": [],
   "source": [
    "df.text[8]"
   ]
  },
  {
   "cell_type": "markdown",
   "metadata": {},
   "source": [
    "### hapus emoji"
   ]
  },
  {
   "cell_type": "code",
   "execution_count": null,
   "metadata": {},
   "outputs": [],
   "source": [
    "def remove_emoji(string):\n",
    "    emoji_pattern = re.compile(\"[\"\n",
    "                           u\"\\U0001F600-\\U0001F64F\"  # emoticons\n",
    "                           u\"\\U0001F300-\\U0001F5FF\"  # symbols & pictographs\n",
    "                           u\"\\U0001F680-\\U0001F6FF\"  # transport & map symbols\n",
    "                           u\"\\U0001F1E0-\\U0001F1FF\"  # flags (iOS)\n",
    "                           u\"\\U00002702-\\U000027B0\"\n",
    "                           u\"\\U000024C2-\\U0001F251\"\n",
    "                           \"]+\", flags=re.UNICODE)\n",
    "    return emoji_pattern.sub(r'', string)"
   ]
  },
  {
   "cell_type": "code",
   "execution_count": null,
   "metadata": {},
   "outputs": [],
   "source": [
    "widgets = [progressbar.Percentage(),progressbar.Bar(),\" Processed : \",progressbar.Counter(),\"  \",progressbar.ETA()]\n",
    "bar = progressbar.ProgressBar(widgets=widgets, max_value=len(df.index))\n",
    "bar.start()\n",
    "\n",
    "t=[]\n",
    "for index,row in bar(df.iterrows()):\n",
    "    t.append(remove_emoji(row['text']))\n",
    "df.text=t"
   ]
  },
  {
   "cell_type": "markdown",
   "metadata": {},
   "source": [
    "### cleaning"
   ]
  },
  {
   "cell_type": "code",
   "execution_count": null,
   "metadata": {},
   "outputs": [],
   "source": [
    "widgets = [progressbar.Percentage(),progressbar.Bar(),\" Processed : \",progressbar.Counter(),\"  \",progressbar.ETA()]\n",
    "bar = progressbar.ProgressBar(widgets=widgets, max_value=len(df.index))\n",
    "bar.start()\n",
    "\n",
    "tok=WordPunctTokenizer()\n",
    "t=[]\n",
    "for index,row in bar(df.iterrows()):\n",
    "    x=row[\"text\"]\n",
    "    # hapus rt\n",
    "    cl = re.sub(r'^(RT|rt)( @\\w*)?[: ]', '', x)\n",
    "    #cl = re.sub(r'\\s*RT\\s*@[^:]*:.*', '', x)\n",
    "    #cl = re.sub(r'\\s*rt\\s*@[^:]*:.*', '', cl)\n",
    "    # hapus mention\n",
    "    cl = re.sub(r'@[A-Za-z0-9]([^:\\s]+)+', '', cl)\n",
    "    # hapus emoticon\n",
    "    cl = re.sub(r'(\\:\\w+\\:|\\<[\\/\\\\]?3|[\\(\\)\\\\\\D|\\*\\$][\\-\\^]?[\\:\\;\\=]|[\\:\\;\\=B8][\\-\\^]?[3DOPp\\@\\$\\*\\\\\\)\\(\\/\\|])(?=\\s|[\\!\\.\\?]|$)', '', cl)\n",
    "    # hapus link\n",
    "    cl = re.sub(r'http?://[A-Za-z0-9./]+', '', cl)\n",
    "    cl = re.sub(r'https?://[A-Za-z0-9./]+', '', cl)  \n",
    "    # hapus hashtag\n",
    "    cl = re.sub(r'#[A-Za-z0-9\\-\\.\\_]+(?:\\s|$)', '', cl)\n",
    "    cl = re.sub(r'(?:\\s|^)#[A-Za-z0-9\\-\\.\\_]+(?:\\s|$)', '', cl)\n",
    "    # kata ulang\n",
    "    cl = re.sub(r'\\w*\\d\\w*', '', cl)\n",
    "    cl = re.sub(r'\\b(\\w+)(\\1\\b)+', r'\\1', cl)\n",
    "    # hapus simbol\n",
    "    cl = re.sub(r'[^a-zA-Z]', ' ', cl)\n",
    "    # lower\n",
    "    cl=cl.lower()\n",
    "    # format teks \n",
    "    cl=tok.tokenize(cl)\n",
    "    cl=(\" \".join(cl))\n",
    "    t.append(cl)\n",
    "    #print(cl)\n",
    "df.text=t"
   ]
  },
  {
   "cell_type": "code",
   "execution_count": null,
   "metadata": {},
   "outputs": [],
   "source": [
    "df.text[8]"
   ]
  },
  {
   "cell_type": "markdown",
   "metadata": {},
   "source": [
    "### hapus row yg terdapat data kosong"
   ]
  },
  {
   "cell_type": "code",
   "execution_count": null,
   "metadata": {},
   "outputs": [],
   "source": [
    "ex=''\n",
    "df=df[df.text != ex]\n",
    "df.reset_index(drop=True,inplace=True)\n",
    "df.info()"
   ]
  },
  {
   "cell_type": "markdown",
   "metadata": {},
   "source": [
    "### hapus stopwords"
   ]
  },
  {
   "cell_type": "code",
   "execution_count": null,
   "metadata": {},
   "outputs": [],
   "source": [
    "widgets = [progressbar.Percentage(),progressbar.Bar(),\" Processed : \",progressbar.Counter(),\"  \",progressbar.ETA()]\n",
    "bar = progressbar.ProgressBar(widgets=widgets, max_value=len(df.index))\n",
    "bar.start()\n",
    "\n",
    "# stopwords sastrawi\n",
    "factory = StopWordRemoverFactory()\n",
    "\n",
    "# tambah stopwords ke dict sastrawi\n",
    "more_stopwords=[line.strip() for line in open('lib/more_stopwords.txt')]\n",
    "factory.get_stop_words()+more_stopwords\n",
    "stopwords = factory.create_stop_word_remover()\n",
    "\n",
    "t=[]\n",
    "for index, row in bar(df.iterrows()):\n",
    "    row[\"text\"] = stopwords.remove(row[\"text\"])\n",
    "    t.append(row['text'])\n",
    "    #print(row[\"text\"])\n",
    "df.text=t"
   ]
  },
  {
   "cell_type": "code",
   "execution_count": null,
   "metadata": {},
   "outputs": [],
   "source": [
    "df.text[8]"
   ]
  },
  {
   "cell_type": "markdown",
   "metadata": {},
   "source": [
    "### stemming"
   ]
  },
  {
   "cell_type": "code",
   "execution_count": null,
   "metadata": {},
   "outputs": [],
   "source": [
    "# spacy\n",
    "from spacy.lang.id import Indonesian\n",
    "import spacy\n",
    "nlp = Indonesian() \n",
    "nlp = spacy.blank('id') \n",
    "\n",
    "widgets = [progressbar.Percentage(),progressbar.Bar(),\" Processed : \",progressbar.Counter(),\"  \",progressbar.ETA()]\n",
    "bar = progressbar.ProgressBar(widgets=widgets, max_value=len(df.index))\n",
    "bar.start()\n",
    "\n",
    "\n",
    "lemma=[]\n",
    "for index, row in bar(df.iterrows()):\n",
    "    temp=[]\n",
    "    doc = nlp(row['text'])\n",
    "    for x in doc:\n",
    "        temp.append(x.lemma_)\n",
    "    lemma.append(\" \".join(temp))\n",
    "df.text=lemma  "
   ]
  },
  {
   "cell_type": "code",
   "execution_count": null,
   "metadata": {},
   "outputs": [],
   "source": [
    "df.text[8]"
   ]
  },
  {
   "cell_type": "code",
   "execution_count": null,
   "metadata": {},
   "outputs": [],
   "source": [
    "# sastrawi\n",
    "\n",
    "widgets = [progressbar.Percentage(),progressbar.Bar(),\" Processed : \",progressbar.Counter(),\"  \",progressbar.ETA()]\n",
    "bar = progressbar.ProgressBar(widgets=widgets, max_value=len(df.index))\n",
    "bar.start()\n",
    "\n",
    "# create stemmer\n",
    "factory = StemmerFactory()\n",
    "stemmer = factory.create_stemmer()\n",
    "\n",
    "t=[]\n",
    "for index, row in bar(df.iterrows()):\n",
    "    t.append(stemmer.stem(row[\"text\"]))\n",
    "    #print(row[\"text\"])\n",
    "#df.text=t\n"
   ]
  },
  {
   "cell_type": "code",
   "execution_count": null,
   "metadata": {},
   "outputs": [],
   "source": [
    "t[8]"
   ]
  },
  {
   "cell_type": "code",
   "execution_count": null,
   "metadata": {},
   "outputs": [],
   "source": [
    "df.text[8]"
   ]
  },
  {
   "cell_type": "code",
   "execution_count": null,
   "metadata": {},
   "outputs": [],
   "source": [
    "df.text=t"
   ]
  },
  {
   "cell_type": "markdown",
   "metadata": {},
   "source": [
    "### save file"
   ]
  },
  {
   "cell_type": "code",
   "execution_count": null,
   "metadata": {},
   "outputs": [],
   "source": [
    "df.to_csv('lib/dataset', encoding='utf-8')"
   ]
  },
  {
   "cell_type": "code",
   "execution_count": null,
   "metadata": {},
   "outputs": [],
   "source": []
  }
 ],
 "metadata": {
  "kernelspec": {
   "display_name": "Python 3",
   "language": "python",
   "name": "python3"
  },
  "language_info": {
   "codemirror_mode": {
    "name": "ipython",
    "version": 3
   },
   "file_extension": ".py",
   "mimetype": "text/x-python",
   "name": "python",
   "nbconvert_exporter": "python",
   "pygments_lexer": "ipython3",
   "version": "3.6.8"
  }
 },
 "nbformat": 4,
 "nbformat_minor": 2
}

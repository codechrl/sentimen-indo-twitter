{
 "cells": [
  {
   "cell_type": "markdown",
   "metadata": {},
   "source": [
    "# Sentimen Analisis Report Indo"
   ]
  },
  {
   "cell_type": "code",
   "execution_count": null,
   "metadata": {},
   "outputs": [],
   "source": [
    "import pandas as pd\n",
    "import numpy as np\n",
    "import pickle\n",
    "import tensorflow as tf\n",
    "from keras.preprocessing.sequence import pad_sequences\n",
    "from keras.models import model_from_json\n",
    "from keras.utils import to_categorical\n",
    "from sklearn.metrics import classification_report\n",
    "from sklearn.utils import shuffle\n",
    "from keras.preprocessing.text import Tokenizer"
   ]
  },
  {
   "cell_type": "markdown",
   "metadata": {},
   "source": [
    "### load dataset"
   ]
  },
  {
   "cell_type": "code",
   "execution_count": null,
   "metadata": {},
   "outputs": [],
   "source": [
    "print(\"reading\")\n",
    "df = pd.read_csv('lib/dataset',index_col=0)\n",
    "df1 = pd.read_csv('lib/dataset ahok',index_col=0)\n",
    "df2 = pd.read_csv('lib/datasetfm',index_col=0)\n",
    "df=pd.concat([df,df1,df2],sort=False)\n",
    "#df['target']=df['target'].map({0:-1,1:0,2:1})\n",
    "\n",
    "df.dropna(inplace=True)\n",
    "df.reset_index(drop=True,inplace=True)\n",
    "df = shuffle(df)\n",
    "df.info()\n"
   ]
  },
  {
   "cell_type": "markdown",
   "metadata": {},
   "source": [
    "### downsampling"
   ]
  },
  {
   "cell_type": "code",
   "execution_count": null,
   "metadata": {},
   "outputs": [],
   "source": [
    "dneg=df.query('target == -1')\n",
    "dnet=df.query('target == 0')\n",
    "dpos=df.query('target == 1')\n",
    "\n",
    "minlen=min(len(dnet.index),len(dpos.index),len(dneg.index))\n",
    "\n",
    "dnet=dnet.head(minlen)\n",
    "dneg=dneg.head(minlen)\n",
    "dpos=dpos.head(minlen)\n",
    "\n",
    "data_training=pd.concat([dneg.text,dnet.text,dpos.text])\n",
    "target=pd.concat([dneg.target,dnet.target,dpos.target])\n",
    "target=to_categorical(target-target.min())"
   ]
  },
  {
   "cell_type": "markdown",
   "metadata": {},
   "source": [
    "### tidak downsampling"
   ]
  },
  {
   "cell_type": "code",
   "execution_count": null,
   "metadata": {},
   "outputs": [],
   "source": [
    "#data_training=df.text\n",
    "#target=to_categorical(target-target.min())"
   ]
  },
  {
   "cell_type": "markdown",
   "metadata": {},
   "source": [
    "### tokenizing"
   ]
  },
  {
   "cell_type": "code",
   "execution_count": null,
   "metadata": {},
   "outputs": [],
   "source": [
    "tokenizer = Tokenizer(num_words=100000)\n",
    "with open('lib/tokenizer_indo.pickle', 'rb') as handle:\n",
    "    tokenizer = pickle.load(handle)\n",
    "sequences = tokenizer.texts_to_sequences(data_training) "
   ]
  },
  {
   "cell_type": "markdown",
   "metadata": {},
   "source": [
    "### padding"
   ]
  },
  {
   "cell_type": "code",
   "execution_count": null,
   "metadata": {},
   "outputs": [],
   "source": [
    "input_seq = pad_sequences(sequences, maxlen=70)"
   ]
  },
  {
   "cell_type": "markdown",
   "metadata": {},
   "source": [
    "### data"
   ]
  },
  {
   "cell_type": "code",
   "execution_count": null,
   "metadata": {},
   "outputs": [],
   "source": [
    "input_val=input_seq\n",
    "target_val=target\n",
    "print(\"data : \",len(input_val))"
   ]
  },
  {
   "cell_type": "markdown",
   "metadata": {},
   "source": [
    "### fungsi load model"
   ]
  },
  {
   "cell_type": "code",
   "execution_count": null,
   "metadata": {},
   "outputs": [],
   "source": [
    "def load_model(ledom):\n",
    "    json_file = open(ledom, 'r')\n",
    "    loaded_model_json = json_file.read()\n",
    "    json_file.close()\n",
    "    model = model_from_json(loaded_model_json)\n",
    "    model.compile(loss='categorical_crossentropy', optimizer='adam', metrics=['categorical_accuracy'])\n",
    "    return model"
   ]
  },
  {
   "cell_type": "markdown",
   "metadata": {},
   "source": [
    "### fungsi acc score"
   ]
  },
  {
   "cell_type": "code",
   "execution_count": null,
   "metadata": {},
   "outputs": [],
   "source": [
    "def score(model,we):\n",
    "    model.load_weights(we)\n",
    "    scores = model.evaluate(input_val, target_val)\n",
    "    print(\"%s: %.2f%%\" % (model.metrics_names[1], scores[1]*100))"
   ]
  },
  {
   "cell_type": "markdown",
   "metadata": {},
   "source": [
    "### fungsi f1 score"
   ]
  },
  {
   "cell_type": "code",
   "execution_count": null,
   "metadata": {},
   "outputs": [],
   "source": [
    "def f1(model):\n",
    "    predict = model.predict_classes(input_val)\n",
    "    y_true = np.argmax(target_val, axis=1, out=None)\n",
    "    y_pred = predict\n",
    "    target_names = ['negative', 'neutral', 'positive']\n",
    "    print (classification_report(y_true, y_pred, target_names=target_names))"
   ]
  },
  {
   "cell_type": "markdown",
   "metadata": {},
   "source": [
    "### fungsi report"
   ]
  },
  {
   "cell_type": "code",
   "execution_count": null,
   "metadata": {},
   "outputs": [],
   "source": [
    "def report(model_name,model_path,weights_path, s,f):\n",
    "    for x in range(len(model_name)):\n",
    "        print(\"\\n\\n\",\"=\"*20,model_name[x],\"=\"*20)\n",
    "        model=load_model(model_path[x])\n",
    "        if s==True:\n",
    "            score(model,weights_path[x])\n",
    "            print()\n",
    "        if f==True:\n",
    "            f1(model)"
   ]
  },
  {
   "cell_type": "markdown",
   "metadata": {},
   "source": [
    "### set nama model, path model, path weights"
   ]
  },
  {
   "cell_type": "code",
   "execution_count": null,
   "metadata": {},
   "outputs": [],
   "source": [
    "model_name=[\"Word2Vec\",\n",
    "            \"DBOW\",\n",
    "            \"DMM\",\n",
    "            \"DMC\",\n",
    "            \"DBOW-DMM\",\n",
    "            \"DBOW-DMC\",\n",
    "            \"DMM-DMC\",\n",
    "            \"DBOW-DMM-DMC\"]\n",
    "\n",
    "model_path=[\"lib/model_w2v_indo.json\",\n",
    "           \"lib/model_dbow_indo.json\",\n",
    "           \"lib/model_dmm_indo.json\",\n",
    "           \"lib/model_dmc_indo.json\",\n",
    "           \"lib/model_dbow-dmm_indo.json\",\n",
    "           \"lib/model_dbow-dmc_indo.json\",\n",
    "           \"lib/model_dmm-dmc_indo.json\",\n",
    "            \"lib/model_dbow-dmm-dmc_indo.json\"]\n",
    "\n",
    "weights_path=['lib/weights_w2v.hdf5',\n",
    "           \"lib/weights_dbow.hdf5\",\n",
    "           \"lib/weights_dmm.hdf5\",\n",
    "           \"lib/weights_dmc.hdf5\",\n",
    "           \"lib/weights_dbow-dmm.hdf5\",\n",
    "           \"lib/weights_dbow-dmc.hdf5\",\n",
    "           \"lib/weights_dmm-dmc.hdf5\",\n",
    "            \"lib/weights_dbow-dmm-dmc.hdf5\"]"
   ]
  },
  {
   "cell_type": "markdown",
   "metadata": {},
   "source": [
    "# report"
   ]
  },
  {
   "cell_type": "markdown",
   "metadata": {},
   "source": [
    "parameter\n",
    "1. list nama model\n",
    "2. list path model\n",
    "3. list path weight\n",
    "4. acc score \n",
    "5. f1 score"
   ]
  },
  {
   "cell_type": "code",
   "execution_count": null,
   "metadata": {},
   "outputs": [],
   "source": [
    "report(model_name,model_path,weights_path,True,True)"
   ]
  },
  {
   "cell_type": "code",
   "execution_count": null,
   "metadata": {},
   "outputs": [],
   "source": []
  }
 ],
 "metadata": {
  "kernelspec": {
   "display_name": "Python 3",
   "language": "python",
   "name": "python3"
  },
  "language_info": {
   "codemirror_mode": {
    "name": "ipython",
    "version": 3
   },
   "file_extension": ".py",
   "mimetype": "text/x-python",
   "name": "python",
   "nbconvert_exporter": "python",
   "pygments_lexer": "ipython3",
   "version": "3.6.8"
  }
 },
 "nbformat": 4,
 "nbformat_minor": 2
}
